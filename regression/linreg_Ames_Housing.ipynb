{
 "cells": [
  {
   "cell_type": "markdown",
   "metadata": {},
   "source": [
    "## 0. Import dependencies"
   ]
  },
  {
   "cell_type": "code",
   "execution_count": 3,
   "metadata": {},
   "outputs": [
    {
     "data": {
      "text/plain": [
       "'1.9.0'"
      ]
     },
     "execution_count": 3,
     "metadata": {},
     "output_type": "execute_result"
    }
   ],
   "source": [
    "import matplotlib.pyplot as plt\n",
    "import numpy as np\n",
    "import pandas as pd\n",
    "\n",
    "import sys\n",
    "sys.path.insert(0, '../utils')\n",
    "from load_data import ames_housing\n",
    "\n",
    "import functools\n",
    "import tensorflow as tf\n",
    "from tensorflow.python.feature_column.feature_column import _LazyBuilder\n",
    "tf.__version__"
   ]
  },
  {
   "cell_type": "markdown",
   "metadata": {},
   "source": [
    "## 1. Load data"
   ]
  },
  {
   "cell_type": "code",
   "execution_count": 2,
   "metadata": {},
   "outputs": [
    {
     "name": "stdout",
     "output_type": "stream",
     "text": [
      "Number of train samples is 1360.\n",
      "Number of valid samples is 100.\n",
      "Number of test samples is 1459.\n"
     ]
    }
   ],
   "source": [
    "datadf = pd.read_csv('../data/Ames-Housing/train.csv', keep_default_na=False)\n",
    "testdf = pd.read_csv('../data/Ames-Housing/test.csv', keep_default_na=False)\n",
    "\n",
    "datadf.set_index('Id', inplace=True)\n",
    "testdf.set_index('Id', inplace=True)\n",
    "\n",
    "labelkey = 'SalePrice'\n",
    "ydata = np.array(datadf[labelkey]) \n",
    "datadf.drop(columns=[labelkey], inplace=True)\n",
    "\n",
    "numvalid = 100\n",
    "traindf = datadf[:-numvalid]\n",
    "validdf = datadf[-numvalid:]\n",
    "trainy = ydata[:-numvalid]\n",
    "validy = ydata[-numvalid:]\n",
    "\n",
    "numtrainsamp, numtrainfeat = traindf.shape\n",
    "numvalidsamp, numvalidfeat = validdf.shape\n",
    "numtestsamp, numtestfeat = testdf.shape\n",
    "print(\"Number of train samples is {}.\".format(numtrainsamp))\n",
    "print(\"Number of valid samples is {}.\".format(numvalidsamp))\n",
    "print(\"Number of test samples is {}.\".format(numtestsamp))"
   ]
  },
  {
   "cell_type": "markdown",
   "metadata": {},
   "source": [
    "## 2. Define numeric and categorical feature columns"
   ]
  },
  {
   "cell_type": "code",
   "execution_count": 3,
   "metadata": {},
   "outputs": [
    {
     "name": "stdout",
     "output_type": "stream",
     "text": [
      "Number of feature columns is 79.\n",
      "Checking listnumeric ...\n",
      "[True, True, True, True, True, True, True, True, True, True, True, True, True, True, True, True, True, True, True, True, True, True, True, True, True, True, True, True, True, True, True, True]\n",
      "Checking dictcategorical ...\n",
      "[True, True, True, True, True, True, True, True, True, True, True, True, True, True, True, True, True, True, True, True, True, True, True, True, True, True, True, True, True, True, True, True, True, True, True, True, True, True, True, True, True, True, True, True, True, True, True]\n"
     ]
    }
   ],
   "source": [
    "listnumeric = ['LotFrontage', 'LotArea', 'YearBuilt', \n",
    "               'YearRemodAdd', 'MasVnrArea', 'BsmtFinSF1',\n",
    "               'BsmtFinSF2', 'BsmtUnfSF', 'TotalBsmtSF',\n",
    "               '1stFlrSF', '2ndFlrSF', 'LowQualFinSF',\n",
    "               'GrLivArea', 'BsmtFullBath', 'BsmtHalfBath',\n",
    "               'FullBath', 'HalfBath', 'BedroomAbvGr', \n",
    "               'KitchenAbvGr', 'TotRmsAbvGrd', 'Fireplaces',\n",
    "               'GarageYrBlt', 'GarageCars', 'GarageArea',\n",
    "               'WoodDeckSF', 'OpenPorchSF', 'EnclosedPorch',\n",
    "               '3SsnPorch', 'ScreenPorch', 'PoolArea',\n",
    "               'MiscVal', 'YrSold']\n",
    "\n",
    "dictcategorical = {'MSSubClass': [20, 30, 40, 45, 50, \n",
    "                                  60, 70, 75, 80, 85, \n",
    "                                  90, 120, 150, 160, \n",
    "                                  180, 190], \n",
    "                   'MSZoning': ['A', 'C', 'FV', 'I', \n",
    "                                'RH', 'RL', 'RP', 'RM'], \n",
    "                   'Street': ['Grvl', 'Pave'],\n",
    "                   'Alley': ['Grvl', 'Pave', 'NA'],\n",
    "                   'LotShape': ['Reg', 'IR1', 'IR2', 'IR3'],\n",
    "                   'LandContour': ['Lvl', 'Bnk', 'HLS', 'Low'],\n",
    "                   'Utilities': ['AllPub', 'NoSewr', 'NoSeWa', 'ELO'],\n",
    "                   'LotConfig': ['Inside', 'Corner', 'CulDSac', 'FR2', \n",
    "                                 'FR3'],\n",
    "                   'LandSlope': ['Gtl', 'Mod', 'Sev'],\n",
    "                   'Neighborhood': ['Blmngtn', 'Blueste', 'BrDale',\n",
    "                                    'BrkSide', 'ClearCr', 'CollgCr',\n",
    "                                    'Crawfor', 'Edwards', 'Gilbert',\n",
    "                                    'IDOTRR', 'MeadowV', 'Mitchel',\n",
    "                                    'Names', 'NoRidge', 'NPkVill',\n",
    "                                    'NridgHt', 'NWAmes', 'OldTown',\n",
    "                                    'SWISU', 'Sawyer', 'SawyerW'\n",
    "                                    'Somerst', 'StoneBr', 'Timber', \n",
    "                                    'Veenker'],\n",
    "                   'Condition1': ['Artery', 'Feedr', 'Norm', 'RRNn',\n",
    "                                  'RRAn', 'PosN', 'PosA', 'RRNe', \n",
    "                                  'RRAe'],\n",
    "                   'Condition2': ['Artery', 'Feedr', 'Norm', 'RRNn',\n",
    "                                  'RRAn', 'PosN', 'PosA', 'RRNe', \n",
    "                                  'RRAe'],\n",
    "                   'BldgType': ['1Fam', '2FmCon', 'Duplx', \n",
    "                                'TwnhsE', 'TwnhsI'],\n",
    "                   'HouseStyle': ['1Story', '1.5Fin', '1.5Unf',\n",
    "                                  '2Story',  '2.5Fin','2.5Unf', \n",
    "                                  'SFoyer', 'SLvl'],\n",
    "                   'OverallQual': [10, 9, 8, 7, 6, 5, 4, 3, 2, 1],\n",
    "                   'OverallCond': [10, 9, 8, 7, 6, 5, 4, 3, 2, 1],\n",
    "                   'RoofStyle': ['Flat', 'Gable', 'Gambrel', 'Hip',\n",
    "                                 'Mansard', 'Shed'],\n",
    "                   'RoofMatl': ['ClyTile', 'CompShg', 'Membran',\n",
    "                                'Metal', 'Roll', 'Tar&Grv', \n",
    "                                'WdShake', 'WdShngl'],\n",
    "                   'Exterior1st': ['AsbShng', 'AsphShn', 'BrkComm',\n",
    "                                   'CBlock', 'CemntBd', 'HdBoard',\n",
    "                                   'ImStucc', 'MetalSd', 'Other',\n",
    "                                   'Plywood', 'PreCast', 'Stone', \n",
    "                                   'Stucco', 'VinylSd', 'Wd Sdng',\n",
    "                                   'WdShing'],\n",
    "                   'Exterior2nd': ['AsbShng', 'AsphShn', 'BrkComm',\n",
    "                                   'CBlock', 'CemntBd', 'HdBoard',\n",
    "                                   'ImStucc', 'MetalSd', 'Other',\n",
    "                                   'Plywood', 'PreCast', 'Stone', \n",
    "                                   'Stucco', 'VinylSd', 'Wd Sdng',\n",
    "                                   'WdShing'],\n",
    "                   'MasVnrType': ['BrkCmn', 'BrkFace', 'CBlock',\n",
    "                                  'None', 'Stone'],\n",
    "                   'ExterQual': ['Ex', 'Gd', 'TA', 'Fa', 'Po'],\n",
    "                   'ExterCond': ['Ex', 'Gd', 'TA', 'Fa', 'Po'],\n",
    "                   'Foundation': ['BrkTil', 'CBlock', 'PConc',\n",
    "                                  'Slab', 'Stone', 'Wood'],\n",
    "                   'BsmtQual': ['Ex', 'Gd', 'TA', 'Fa', 'Po', 'NA'],\n",
    "                   'BsmtCond': ['Ex', 'Gd', 'TA', 'Fa', 'Po', 'NA'],\n",
    "                   'BsmtExposure': ['Gd', 'Av', 'Mn', 'No', 'NA'],\n",
    "                   'BsmtFinType1': ['GLQ', 'ALQ', 'BLQ', 'Rec', \n",
    "                                    'LwQ', 'Unf', 'NA'],\n",
    "                   'BsmtFinType2': ['GLQ', 'ALQ', 'BLQ', 'Rec', \n",
    "                                    'LwQ', 'Unf', 'NA'],\n",
    "                   'Heating': ['Floor', 'GasA', 'GasW', 'Grav', \n",
    "                               'OthW', 'Wall'],\n",
    "                   'HeatingQC': ['Ex', 'Gd', 'TA', 'Fa', 'Po'],\n",
    "                   'CentralAir': ['N', 'Y'],\n",
    "                   'Electrical': ['SBrkr', 'FuseA', 'FuseF', 'FuseP',\n",
    "                                  'Mix'],\n",
    "                   'KitchenQual': ['Ex', 'Gd', 'TA', 'Fa', 'Po'],\n",
    "                   'Functional': ['Typ', 'Min1', 'Min2', 'Mod', \n",
    "                                  'Maj1', 'Maj2', 'Sev', 'Sal'],\n",
    "                   'FireplaceQu': ['Ex', 'Gd', 'TA', 'Fa', 'Po', 'NA'],\n",
    "                   'GarageType': ['2Types', 'Attchd', 'Basment',\n",
    "                                  'BuiltIn', 'CarPort', 'Detchd',\n",
    "                                  'NA'],\n",
    "                   'GarageFinish': ['Fin', 'RFn', 'Unf', 'NA'],\n",
    "                   'GarageQual': ['Ex', 'Gd', 'TA', 'Fa', 'Po', 'NA'],\n",
    "                   'GarageCond': ['Ex', 'Gd', 'TA', 'Fa', 'Po', 'NA'],\n",
    "                   'PavedDrive': ['Y', 'P', 'N'],\n",
    "                   'PoolQC': ['Ex', 'Gd', 'TA', 'Fa', 'NA'],\n",
    "                   'Fence': ['GdPrv', 'MnPrv', 'GdWo', 'MnWw', 'NA'],\n",
    "                   'MiscFeature': ['Elev', 'Gar2', 'Othr', 'Shed',\n",
    "                                   'TenC', 'NA'],\n",
    "                   'MoSold': [1, 2, 3, 4, 5, 6, 7, 8, 9, 10, 11, 12],\n",
    "                   'SaleType': ['WD', 'CWD', 'VWD', 'New', 'COD',\n",
    "                                'Con', 'ConLw', 'ConLI', 'ConLD',\n",
    "                                'Oth'],\n",
    "                   'SaleCondition': ['Normal', 'Abnorml', 'AdjLand',\n",
    "                                     'Alloca', 'Family', 'Partial']\n",
    "                  }\n",
    "\n",
    "numfeatcols = len(list(dictcategorical.keys()))+len(listnumeric)\n",
    "print(\"Number of feature columns is {}.\".format(numfeatcols))\n",
    "\n",
    "listcolumns = traindf.keys().tolist()\n",
    "listcategorical = list(dictcategorical.keys())\n",
    "print('Checking listnumeric ...')\n",
    "print([num in listcolumns for num in listnumeric])\n",
    "print(\"Checking dictcategorical ...\")\n",
    "print([cat in listcolumns for cat in listcategorical])"
   ]
  },
  {
   "cell_type": "markdown",
   "metadata": {},
   "source": [
    "## 3. Preprocess data "
   ]
  },
  {
   "cell_type": "code",
   "execution_count": 4,
   "metadata": {},
   "outputs": [
    {
     "name": "stderr",
     "output_type": "stream",
     "text": [
      "/home/ymtoo/anaconda3/lib/python3.6/site-packages/pandas/core/generic.py:5890: SettingWithCopyWarning: \n",
      "A value is trying to be set on a copy of a slice from a DataFrame\n",
      "\n",
      "See the caveats in the documentation: http://pandas.pydata.org/pandas-docs/stable/indexing.html#indexing-view-versus-copy\n",
      "  self._update_inplace(new_data)\n",
      "/home/ymtoo/anaconda3/lib/python3.6/site-packages/pandas/core/indexing.py:543: SettingWithCopyWarning: \n",
      "A value is trying to be set on a copy of a slice from a DataFrame.\n",
      "Try using .loc[row_indexer,col_indexer] = value instead\n",
      "\n",
      "See the caveats in the documentation: http://pandas.pydata.org/pandas-docs/stable/indexing.html#indexing-view-versus-copy\n",
      "  self.obj[item] = s\n"
     ]
    }
   ],
   "source": [
    "def preprocess_numeric(df, listnumeric):\n",
    "    \"\"\"Preprocess data to avoid numeric data columns with string 'NA' \"\"\"\n",
    "    listcolumns = df.keys().tolist()\n",
    "    for i, col in enumerate(listcolumns):\n",
    "        if col in listnumeric:\n",
    "            df.loc[:, col].replace('NA', -1, inplace=True)\n",
    "            df.loc[:, col] = df.loc[:, col].apply(pd.to_numeric)\n",
    "    return df\n",
    "\n",
    "def normalize_numeric(traindf, validdf, testdf, listnumeric):\n",
    "    \"\"\"Normalize numeric data\"\"\"\n",
    "    listcolumns = traindf.keys().tolist()\n",
    "    for col in listcolumns:\n",
    "        if col in listnumeric:\n",
    "            miu = traindf[col].mean()\n",
    "            sigma = traindf[col].std()\n",
    "            traindf[col] = (traindf[col]-miu)/sigma\n",
    "            validdf[col] = (validdf[col]-miu)/sigma\n",
    "            testdf[col] = (testdf[col]-miu)/sigma\n",
    "    return traindf, validdf, testdf\n",
    "\n",
    "traindf = preprocess_numeric(traindf, listnumeric)\n",
    "validdf = preprocess_numeric(validdf, listnumeric)\n",
    "testdf = preprocess_numeric(testdf, listnumeric)\n",
    "#traindf, validdf, testdf = normalize_numeric(traindf, validdf, testdf, listnumeric)"
   ]
  },
  {
   "cell_type": "markdown",
   "metadata": {},
   "source": [
    "## 4. Setting TensorFlow input data"
   ]
  },
  {
   "cell_type": "code",
   "execution_count": 5,
   "metadata": {},
   "outputs": [],
   "source": [
    "def feature_column(listnumeric, dictcategorical):\n",
    "    listcategorical = list(dictcategorical.keys())\n",
    "    numeric_cols = []\n",
    "    for num in listnumeric:\n",
    "        numeric_cols.append(tf.feature_column.numeric_column(num))\n",
    "    categorical_cols = []\n",
    "    for cat in listcategorical:\n",
    "        cattemp = tf.feature_column.categorical_column_with_vocabulary_list(\n",
    "                cat, dictcategorical[cat])\n",
    "        categorical_cols.append(cattemp)\n",
    "    return numeric_cols, categorical_cols\n",
    "\n",
    "numeric_cols , categorical_cols = feature_column(listnumeric, dictcategorical)\n",
    "indicator_cols = list(map(tf.feature_column.indicator_column, categorical_cols))"
   ]
  },
  {
   "cell_type": "markdown",
   "metadata": {},
   "source": [
    "### 4.1 Test input data"
   ]
  },
  {
   "cell_type": "code",
   "execution_count": 6,
   "metadata": {},
   "outputs": [
    {
     "name": "stdout",
     "output_type": "stream",
     "text": [
      "[array([[ 1.,  0.,  0.,  0.,  0.,  0.,  0.,  0.],\n",
      "       [ 0.,  1.,  0.,  0.,  0.,  0.,  0.,  0.],\n",
      "       [ 0.,  0.,  0.,  0.,  0.,  0.,  0.,  0.]], dtype=float32)]\n"
     ]
    }
   ],
   "source": [
    "test = {'MSZoning': ['A', 'C', 'KK']}\n",
    "\n",
    "dense_tensor = tf.feature_column.input_layer(test, [indicator_cols[1]])\n",
    "with tf.Session() as session:\n",
    "    session.run(tf.global_variables_initializer())\n",
    "    session.run(tf.tables_initializer())\n",
    "    print(session.run([dense_tensor]))"
   ]
  },
  {
   "cell_type": "markdown",
   "metadata": {},
   "source": [
    "## 5. Linear regressor"
   ]
  },
  {
   "cell_type": "code",
   "execution_count": 7,
   "metadata": {},
   "outputs": [
    {
     "name": "stdout",
     "output_type": "stream",
     "text": [
      "INFO:tensorflow:Using default config.\n",
      "WARNING:tensorflow:Using temporary folder as model directory: /tmp/tmpory2esnx\n",
      "INFO:tensorflow:Using config: {'_model_dir': '/tmp/tmpory2esnx', '_tf_random_seed': None, '_save_summary_steps': 100, '_save_checkpoints_steps': None, '_save_checkpoints_secs': 600, '_session_config': None, '_keep_checkpoint_max': 5, '_keep_checkpoint_every_n_hours': 10000, '_log_step_count_steps': 100, '_train_distribute': None, '_device_fn': None, '_service': None, '_cluster_spec': <tensorflow.python.training.server_lib.ClusterSpec object at 0x7f49cd491390>, '_task_type': 'worker', '_task_id': 0, '_global_id_in_cluster': 0, '_master': '', '_evaluation_master': '', '_is_chief': True, '_num_ps_replicas': 0, '_num_worker_replicas': 1}\n",
      "INFO:tensorflow:Calling model_fn.\n",
      "INFO:tensorflow:Done calling model_fn.\n",
      "INFO:tensorflow:Create CheckpointSaverHook.\n",
      "INFO:tensorflow:Graph was finalized.\n",
      "INFO:tensorflow:Running local_init_op.\n",
      "INFO:tensorflow:Done running local_init_op.\n",
      "INFO:tensorflow:Saving checkpoints for 0 into /tmp/tmpory2esnx/model.ckpt.\n",
      "INFO:tensorflow:loss = 2.66829e+12, step = 1\n",
      "INFO:tensorflow:global_step/sec: 21.1553\n",
      "INFO:tensorflow:loss = 1.62999e+12, step = 101 (4.729 sec)\n",
      "INFO:tensorflow:global_step/sec: 67.4274\n",
      "INFO:tensorflow:loss = 4.87966e+11, step = 201 (1.482 sec)\n",
      "INFO:tensorflow:global_step/sec: 62.2435\n",
      "INFO:tensorflow:loss = 4.6509e+11, step = 301 (1.607 sec)\n",
      "INFO:tensorflow:global_step/sec: 64.9536\n",
      "INFO:tensorflow:loss = 2.81765e+11, step = 401 (1.540 sec)\n",
      "INFO:tensorflow:global_step/sec: 69.1836\n",
      "INFO:tensorflow:loss = 1.11003e+12, step = 501 (1.445 sec)\n",
      "INFO:tensorflow:global_step/sec: 70.9809\n",
      "INFO:tensorflow:loss = 3.76866e+11, step = 601 (1.409 sec)\n",
      "INFO:tensorflow:global_step/sec: 70.7743\n",
      "INFO:tensorflow:loss = 1.04167e+12, step = 701 (1.413 sec)\n",
      "INFO:tensorflow:global_step/sec: 68.7485\n",
      "INFO:tensorflow:loss = 1.8246e+11, step = 801 (1.455 sec)\n",
      "INFO:tensorflow:global_step/sec: 70.2298\n",
      "INFO:tensorflow:loss = 3.18757e+11, step = 901 (1.423 sec)\n",
      "INFO:tensorflow:global_step/sec: 68.3936\n",
      "INFO:tensorflow:loss = 7.60795e+11, step = 1001 (1.462 sec)\n",
      "INFO:tensorflow:Saving checkpoints for 1100 into /tmp/tmpory2esnx/model.ckpt.\n",
      "INFO:tensorflow:Loss for final step: 5.48519e+10.\n",
      "INFO:tensorflow:Calling model_fn.\n",
      "INFO:tensorflow:Done calling model_fn.\n",
      "INFO:tensorflow:Starting evaluation at 2018-08-22-17:17:31\n",
      "INFO:tensorflow:Graph was finalized.\n",
      "INFO:tensorflow:Restoring parameters from /tmp/tmpory2esnx/model.ckpt-1100\n",
      "INFO:tensorflow:Running local_init_op.\n",
      "INFO:tensorflow:Done running local_init_op.\n",
      "INFO:tensorflow:Finished evaluation at 2018-08-22-17:17:34\n",
      "INFO:tensorflow:Saving dict for global step 1100: average_loss = 4.11984e+09, global_step = 1100, loss = 2.05992e+11\n",
      "INFO:tensorflow:Saving 'checkpoint_path' summary for global step 1100: /tmp/tmpory2esnx/model.ckpt-1100\n",
      "average_loss: 4119841280.00\n",
      "global_step: 1100.00\n",
      "loss: 205992067072.00\n"
     ]
    }
   ],
   "source": [
    "def easy_input_fn(df, label, num_epochs, shuffle, batch_size):\n",
    "    if label is None:\n",
    "        inputs = dict(df)\n",
    "    else:\n",
    "        inputs = (dict(df), label)\n",
    "    ds = tf.data.Dataset.from_tensor_slices(inputs)\n",
    "    \n",
    "    if shuffle:\n",
    "        ds = ds.shuffle(10000)\n",
    "    ds = ds.batch(batch_size).repeat(num_epochs)\n",
    "    return ds\n",
    "\n",
    "train_inpf =  functools.partial(easy_input_fn, \n",
    "                                traindf,\n",
    "                                label=trainy,  \n",
    "                                num_epochs=50, \n",
    "                                shuffle=True, \n",
    "                                batch_size=64)\n",
    "\n",
    "valid_inpf =  functools.partial(easy_input_fn, \n",
    "                                validdf, \n",
    "                                label=validy,\n",
    "                                num_epochs=1, \n",
    "                                shuffle=True, \n",
    "                                batch_size=64)\n",
    "\n",
    "test_inpf =  functools.partial(easy_input_fn, \n",
    "                               validdf, \n",
    "                               label=None,\n",
    "                               num_epochs=1, \n",
    "                               shuffle=True, \n",
    "                               batch_size=64)\n",
    "\n",
    "reg = tf.estimator.LinearRegressor(feature_columns=numeric_cols+categorical_cols)\n",
    "reg.train(train_inpf)\n",
    "result = reg.evaluate(valid_inpf)\n",
    "\n",
    "for key,value in sorted(result.items()):\n",
    "    print('%s: %0.2f' % (key, value))"
   ]
  },
  {
   "cell_type": "code",
   "execution_count": 8,
   "metadata": {},
   "outputs": [
    {
     "name": "stdout",
     "output_type": "stream",
     "text": [
      "INFO:tensorflow:Calling model_fn.\n",
      "INFO:tensorflow:Done calling model_fn.\n",
      "INFO:tensorflow:Graph was finalized.\n",
      "INFO:tensorflow:Restoring parameters from /tmp/tmpory2esnx/model.ckpt-1100\n",
      "INFO:tensorflow:Running local_init_op.\n",
      "INFO:tensorflow:Done running local_init_op.\n"
     ]
    }
   ],
   "source": [
    "pred = reg.predict(valid_inpf)\n",
    "validypred = np.zeros((validy.size))\n",
    "for i, p in enumerate(pred):\n",
    "    validypred[i] = p['predictions'][0]"
   ]
  },
  {
   "cell_type": "markdown",
   "metadata": {},
   "source": [
    "## 6. Plot result"
   ]
  },
  {
   "cell_type": "code",
   "execution_count": 13,
   "metadata": {},
   "outputs": [
    {
     "data": {
      "text/plain": [
       "<matplotlib.legend.Legend at 0x7f497cddca90>"
      ]
     },
     "execution_count": 13,
     "metadata": {},
     "output_type": "execute_result"
    },
    {
     "data": {
      "image/png": "[encoded data removed]",
      "text/plain": [
       "<matplotlib.figure.Figure at 0x7f497dc04710>"
      ]
     },
     "metadata": {},
     "output_type": "display_data"
    }
   ],
   "source": [
    "fig, ax = plt.subplots()\n",
    "ax.plot(validy, label='actual')\n",
    "ax.plot(validypred, label='predict')\n",
    "ax.set_xlabel('Valid data index')\n",
    "ax.grid()\n",
    "ax.legend()"
   ]
  },
  {
   "cell_type": "code",
   "execution_count": null,
   "metadata": {},
   "outputs": [],
   "source": []
  }
 ],
 "metadata": {
  "kernelspec": {
   "display_name": "Python 3",
   "language": "python",
   "name": "python3"
  },
  "language_info": {
   "codemirror_mode": {
    "name": "ipython",
    "version": 3
   },
   "file_extension": ".py",
   "mimetype": "text/x-python",
   "name": "python",
   "nbconvert_exporter": "python",
   "pygments_lexer": "ipython3",
   "version": "3.6.3"
  }
 },
 "nbformat": 4,
 "nbformat_minor": 2
}
